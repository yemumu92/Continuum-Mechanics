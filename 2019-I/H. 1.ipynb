{
 "cells": [
  {
   "cell_type": "markdown",
   "metadata": {},
   "source": [
    "1. Demostrar que la expresión para calcular el centro de masa de un sistema de N\n",
    "partículas puntuales, a saber,\n",
    "\n",
    "$$\\vec{r}_{CM}=\\frac{\\sum_{i=0}^{N} m_{i} \\vec{r}_{i}}{\\sum_{i=0}^{N} m_{i}}$$\n",
    "\n",
    "es invariante ante rotaciones del sistema de referencia.\n",
    "\n",
    "SOLUCIÓN:\n",
    "\n",
    "   El cambio de coordenadas está dado por la matriz de rotación\n",
    "    \n",
    "$$R(\\theta)= \\left(\\begin{matrix} cos(\\theta) & - sen(\\theta)\\\\ sen(\\theta) & cos(\\theta) \\end{matrix} \\right).$$\n",
    "\n",
    "Al aplicar esta transformación a la expresión del centro de masa tenemos que\n",
    "\n",
    "$$ R(\\theta)\\vec{r}_{CM} = \\vec{r'}_{CM}=R(\\theta)\\frac{\\sum_{i=0}^{N} m_{i} \\vec{r}_{i}}{\\sum_{i=0}^{N} m_{i}} = \\frac{\\sum_{i=0}^{N} m_{i} R(\\theta) \\vec{r}_{i}}{\\sum_{i=0}^{N} m_{i}} = \\frac{\\sum_{i=0}^{N} m_{i} \\vec{r'}_{i}}{\\sum_{i=0}^{N} m_{i}} $$\n",
    "\n",
    "Por tanto, la expresión del centro de masa es invariante ante rotaciones del sistema de referencia."
   ]
  },
  {
   "cell_type": "markdown",
   "metadata": {},
   "source": [
    "2. Calcule con respecto al eje x, el centro de masa de una delgada placa de densidad\n",
    "constante $\\rho(x, y) = 3 g/cm^{2}$, acotada abajo por el eje x y arriba por la curva cardioide $r = 1 − cos(\\theta)$."
   ]
  },
  {
   "cell_type": "code",
   "execution_count": 16,
   "metadata": {},
   "outputs": [
    {
     "data": {
      "text/plain": [
       "[<matplotlib.lines.Line2D at 0x11a5574a8>]"
      ]
     },
     "execution_count": 16,
     "metadata": {},
     "output_type": "execute_result"
    },
    {
     "data": {
      "image/png": "[encoded data removed]",
      "text/plain": [
       "<Figure size 432x288 with 1 Axes>"
      ]
     },
     "metadata": {},
     "output_type": "display_data"
    }
   ],
   "source": [
    "import numpy as np\n",
    "import matplotlib.pyplot as plt\n",
    "\n",
    "theta = np.arange(0, np.pi, 0.01)\n",
    "r = 1-np.cos(theta)\n",
    "\n",
    "plt.axes(projection='polar').set_rticks([])\n",
    "plt.plot(theta,r)\n"
   ]
  },
  {
   "cell_type": "markdown",
   "metadata": {},
   "source": [
    "SOLUCIÓN:\n",
    "\n",
    "La masa total de la placa es\n",
    "    \n",
    "$$ M=3\\int_{0}^{\\pi}\\int_{0}^{1-cos(\\theta)}rdrd\\theta = \\frac{3}{2}\\int_{0}^{\\pi}[1-cos\\theta]^{2}d\\theta =\\frac{3}{2}\\int_{0}^{\\pi}[1-2 cos\\theta + cos^{2}\\theta]d\\theta = \\frac{9}{4}\\pi \\quad \\text{[g].} $$\n",
    "\n",
    "La coordenada 'x' del centro de masa es\n",
    "\n",
    "$$x_{CM} = \\frac{4}{9 \\pi}\\int_{0}^{\\pi}\\int_{0}^{1-cos(\\theta)}3r^{2}cos\\theta drd\\theta = - \\frac{5}{6} $$\n",
    "\n",
    "$$ y_{CM} = \\frac{4}{9 \\pi}\\int_{0}^{\\pi}\\int_{0}^{1-cos(\\theta)}3r^{2}sen\\theta drd\\theta = \\frac{16}{9\\pi} $$"
   ]
  },
  {
   "cell_type": "markdown",
   "metadata": {},
   "source": [
    "3. Determine el centroide de la región acotada arriba por la superficie $z = \\sqrt{r}$, a los lados por el cilindro r = 4 y abajo por el plano xy, donde r es la distancia polar plana.\n",
    "\n",
    "SOLUCIÓN:\n",
    "\n",
    "El volumen de la región es\n",
    "\n",
    "$$V = \\int_{0}^{2 \\pi}\\int_{0}^{4}\\int_{0}^{\\sqrt{r}}r dz dr d\\theta = 2 \\pi\\int_{0}^{4} r^{\\frac{3}{2}} dr = \\frac{4^{\\frac{7}{2}}}{5}\\pi = \\frac{128}{5}\\pi \\approx 80.425 \\quad . $$\n",
    "\n",
    "La coordenada x del centroide es\n",
    "\n",
    "$$ x_{CM} =\\frac{5}{128 \\pi} \\int_{0}^{2 \\pi}\\int_{0}^{4}\\int_{0}^{\\sqrt{r}}r^{2}cos \\theta dz dr d\\theta = 0 \\quad .  $$\n",
    "\n",
    "La coordenada y del centroide es\n",
    "\n",
    "$$ y_{CM} = \\frac{5}{128 \\pi} \\int_{0}^{2 \\pi}\\int_{0}^{4}\\int_{0}^{\\sqrt{r}}r^{2}sen \\theta dz dr d\\theta = 0 \\quad . $$\n",
    "\n",
    "La coordenada z del centroide es\n",
    "\n",
    "$$ z_{CM} = \\frac{5}{128 \\pi} \\int_{0}^{2 \\pi}\\int_{0}^{4}\\int_{0}^{\\sqrt{r}}zr dz dr d\\theta = \\frac{5}{128 \\pi}2\\pi\\int_{0}^{4}\\frac{1}{2}r^{2} dr =\\frac{5}{128}\\frac{4^{3}}{3} = \\frac{5}{6}    $$"
   ]
  },
  {
   "cell_type": "markdown",
   "metadata": {},
   "source": [
    "4. Calcule el momento de inercia con respecto al eje x ($I_{xx}$), así como el momento de inercia con respecto al eje z\n",
    "($I_{zz}$), de un delgado disco acotado por la circunferencia $x^{2} + y^{2} = a^{2}$ con una densidad \n",
    "$\\rho (x, y) = k(x^{2} + y^{2})$, donde k es una constante expresada en $g/cm^{4}$. \n",
    "¿Cuáles serían los momentos de inercia de este disco corespecto al eje y ($I_{yy}$) y con respecto a una recta \n",
    "tangente?\n",
    "\n",
    "SOLUCIÓN:\n",
    "\n",
    "El momento de inercia respecto al eje x es \n",
    "\n",
    "$$ I_{xx}= \\int \\int_{Q}\\int \\rho(x,y,z) ||r||^{2}dV = \\int_{0}^{2\\pi}\\int_{0}^{a}kr^{5}sen^{2}\\theta dr d\\theta =\\frac{ka^{6}}{6}\\int_{0}^{2\\pi}\\left(\\frac{1-cos2\\theta}{2}\\right)d\\theta \\quad . $$\n",
    "$$\\therefore I_{xx}= \\frac{ka^{6}}{6}\\pi \\quad .$$\n",
    "\n",
    "Por simetría,\n",
    "\n",
    "$$I_{yy} = \\frac{ka^{6}}{6}\\pi \\quad .$$\n",
    "\n",
    "Y, por el teorema de ejes perpendiculares,\n",
    "\n",
    "$$I_{zz} = I_{yy} + I_{xx} =  \\frac{ka^{6}}{3}\\pi  \\quad . $$\n",
    "\n",
    "Por último, respecto a una recta tangente 'P', se aplica el teorema de ejes paralelos.\n",
    "\n",
    "$$ I_{P} = \\frac{ka^{6}}{6}\\pi + Ma^{2}\\quad .$$\n",
    "\n",
    "En este caso, $M =k \\int_{0}^{2\\pi}\\int_{0}^{a}r^{3}drd\\theta =\\frac{ka^{4}}{2}\\pi $, por lo tanto\n",
    "\n",
    "$$I_{P} = \\frac{ka^{6}}{6}\\pi + \\frac{ka^{6}}{2}\\pi = \\frac{2ka^{6}}{3}\\pi \\quad. $$"
   ]
  },
  {
   "cell_type": "markdown",
   "metadata": {},
   "source": [
    "5. \n",
    "\n",
    "\n",
    "a. Suponga que un cono circular recto sólido C con el radio de su base siendo a y\n",
    "con una altura h se construye sobre la base circular de un hemisferio sólido S\n",
    "de radio a, de modo que la unión de los dos sólidos parece un cono de helado.\n",
    "¿Qué relación debe haber entre h y a para colocar el centroide de C ∪ S en la\n",
    "base común de ambos sólidos?\n",
    "\n",
    "b. Compare su respuesta con el caso de un triángulo isósceles y un semicírculo.\n",
    "¿Son iguales las respuestas? Explica por qué.\n",
    "\n",
    "c. Repita los incisos anteriores para el caso en que solamente se considera la\n",
    "superficie del cono circular recto sólido y la superficie del hemisferio sólido."
   ]
  },
  {
   "cell_type": "markdown",
   "metadata": {},
   "source": [
    "SOLUCIÓN:\n",
    "    \n",
    "     a. Cálculo del centroide de un cono:\n",
    "\n",
    "\n",
    "\n",
    "\n",
    "$$ M = \\int_{0}^{2\\pi}\\int_{0}^{a}\\int_{\\frac{h}{a}r}^{h}rdzdrd\\theta=\n",
    "\\int_{0}^{2\\pi}\\int_{0}^{a}\\left(hr-\\frac{h}{a}r^{2}\\right)drd\\theta=\n",
    "\\int_{0}^{2\\pi}h\\left(\\frac{a^{2}}{6}\\right)d\\theta=\\frac{\\pi ha^{2}}{3}\\quad . $$\n",
    "\n",
    "\n",
    "Entonces, el centro de masa es\n",
    "\n",
    "\n",
    "$$ Z_{CM}=\\frac{1}{M}\\int\\int\\int z\\rho(x,y,z)rdzdrd\\theta=\n",
    "\\frac{3}{\\pi ha^{2}}\\int_{0}^{2\\pi}\\int_{0}^{a}\\frac{h^{2}}{2}\\left(r-\\frac{r^{3}}{a^{2}}\\right)drd\\theta=\n",
    "\\frac{3}{\\pi ha^{2}}\\left(\\frac{\\pi a^{2}h^{2}}{4}\\right)=\\frac{3h}{4a}\\quad . $$\n",
    "\n",
    "\n",
    "OBSERVACIÓN 1 -Note que esto es equivalente a decir que el centroide está a $\\frac{1}{4}$ de la \n",
    "distancia entre la base y el vértice del cono.\n",
    "\n",
    "     Cálculo del centroide de un hemisferio:\n",
    "\n",
    "Como se está trabajando con una densidad unitaria, en el caso de la semiesfera, la masa es igual a la mitad del volumen, i.e., $M=\\frac{2\\pi a^{3}}{3}$.\n",
    "\n",
    "\n",
    "$$ Z'_{CM}\n",
    "=\\frac{3}{2\\pi a^{3}}\\int_{0}^{2\\pi}\\int_{0}^{\\frac{\\pi}{2}}\\int_{0}^{a}r^{3}\\sin{\\phi}\\cos{\\phi}drd\\phi d\\theta\n",
    "=\\frac{3a}{8\\pi}\\int_{0}^{2\\pi}\\int_{0}^{\\frac{\\pi}{2}}\\frac{\\sin{2\\phi}}{2}d\\phi d\\theta\n",
    "=\\frac{3a}{16\\pi}\\int_{0}^{2\\pi}d\\theta=\\frac{3a}{8}$$\n",
    "\n",
    "\n",
    "     Cálculo del centroide del cono de helado:\n",
    "\n",
    "\n",
    "El teorema de Pappus nos dice que el centroide de la unión de dos sólidos, no traslapados, está en algún punto del\n",
    "segmento de recta que une a ambos puntos.\n",
    "\n",
    "\n",
    "$$ \\bar R_{CM}=\\frac{m_{1}\\bar r_{1CM}+m_{2}\\bar r_{2CM}}{m_{1}+m_{2}}\\quad ,$$\n",
    "\n",
    "Donde $\\bar r_{iCM}$ corresponde a las coordenas del centro de masa de i-ésimo sólido y $m_{i}$ a su masa.\n",
    "\n",
    "En el caso del 'cono de helado', es conveniente poner la unión de sólidos en el origen. Desde esta perspectiva, \n",
    "por la observación 1, las coordenadas del centro de masa del cono son $(0,0,\\frac{h}{4})$;\n",
    "mientras que las de la esfera son $(0,0,-\\frac{3a}{8})$. Aplicando estas condiciones tenemos que\n",
    "\n",
    "$$\\bar R_{CM}=\\frac{\\frac{\\pi ha^{2}}{3}\\left(\\frac{h}{4}\\hat k\\right)+\n",
    "                    \\frac{2\\pi a^{3}}{3}\\left(-\\frac{3a}{8}\\hat k\\right)}{m_{1}+m_{2}}\\quad ,$$\n",
    "\n",
    "\n",
    "Es claro que las componentes $y$ y $z$ del centro de masa son cero. Para que éste esté en la unión entre los sólidos\n",
    "es necesario que la componente $z$ haga lo propio. Esto pasa si y sólo si\n",
    "\n",
    "$$\\frac{\\pi ha^{2}}{3}\\left(\\frac{h}{4}\\right)+\\frac{2\\pi a^{3}}{3}\\left(-\\frac{3a}{8}\\right)=\n",
    "0\\iff h=\\sqrt{3}a \\quad  .$$\n"
   ]
  },
  {
   "cell_type": "markdown",
   "metadata": {},
   "source": [
    "b. \n",
    "\n",
    "    Cálculo del centroide de un triángulo:\n",
    "\n",
    "Es bien sabido que el área de un triángulo es $\\frac{bh}{2}$, en este caso, la base del triángulo es $2a$, \n",
    "de tal suerte que la masa de la placa triangular es $M=ah$. Aprovechando la simetría del problema y \n",
    "notando que la recta que define uno de los lados del triángulo está descrita por la ecuación $y=\\frac{h}{a}x$, \n",
    "la ecuación del centroide queda como\n",
    "\n",
    "$$\\bar Y_{CM}=\\frac{2}{ah}\\int_{0}^{h}\\int_{0}^{\\frac{ay}{h}}ydxdy=\n",
    "\\frac{2}{h^{2}}\\int_{0}^{h}y^{2}dy=\\frac{2}{3}h\\quad . $$\n",
    "\n",
    "\n",
    "    Cálculo del centroide de un semicírculo:\n",
    "\n",
    "El área del semicírculo de radio $a$ es $\\frac{\\pi a^{2}}{2}$ la cual, como $\\sigma(x,y)=1$, es igual a la masa. \n",
    "El centroide es\n",
    "\n",
    "$$\\bar Y'_{CM}=\\frac{2}{\\pi a^{2}}\\int_{0}^{\\pi}\\int_{0}^{a}r^{2}\\sin{\\theta}drd\\theta=\n",
    "\\frac{2a}{\\pi}\\int_{0}^{\\pi}\\sin{\\theta}d\\theta=\\frac{4a}{3\\pi}\\quad .$$\n",
    "\n",
    "    Cálculo del centroide de la región completa:\n",
    "\n",
    "Al aplicar el teorema de Pappus al problema, con la condición de que la intersección entre superficies quede en el \n",
    "origen se tiene\n",
    "\n",
    "$$\\bar R_{CM}=\\frac{ah\\left(\\frac{h}{3}\\hat j\\right)+\\frac{\\pi a^{2}}{2}\\left(-\\frac{4a}{3\\pi}\\right)}{m_{1}+m_{2}}=0\\nonumber\\\\\n",
    "\\iff \\frac{ah^{2}}{3}=\\frac{2a^{3}}{3} \\iff h=\\sqrt{2}a \\quad .$$\n",
    "\n",
    "Los resultados difieren porque el promedio de la distribución de masa es distinto entre las placas y los sólidos.\n"
   ]
  },
  {
   "cell_type": "markdown",
   "metadata": {},
   "source": [
    "c. \n",
    "\n",
    "    Cálculo del centro de masa de un hemisferio hueco:\n",
    "\n",
    "El diferencial de área en coordenada esféricas es\n",
    "\n",
    "$$\\int \\int a^{2}sen\\theta d\\theta d\\phi \\quad .$$\n",
    "\n",
    "Por otro lado, se sabe que el centro de masa tiene que estar sobre el eje 'z', por tanto, $x_{cm}=0$ y $y_{cm} = 0$. \n",
    "Las coordenada 'z' es\n",
    "\n",
    "$$ z_{cm} = \\frac{a^{3}}{A}\\int_{0}^{\\frac{\\pi}{2}} \\int_{0}^{2\\pi} cos\\theta sen\\theta d\\theta d\\phi = \\frac{a}{2}\\quad ; $$\n",
    "\n",
    "donde $A = 2 \\pi a^{2}$.\n",
    "\n",
    "    Cálculo del centro de masa de un cono hueco:\n",
    "\n",
    "La integral de superficie es\n",
    "\n",
    "$$ dS = \\int\\int \\sqrt{\\left( \\frac{\\partial z}{\\partial x}\\right)^{2} +\n",
    "                       \\left( \\frac{\\partial z}{\\partial y}\\right)^{2} + 1}\\quad dx dy \\quad .$$\n",
    "                       \n",
    "Mediante una relación de triángulos puede verse que $r = \\frac{a}{h}z$, donde $r=\\sqrt{x^{2}+y^{2}}$. Al despejar z se tiene que $z=\\frac{h}{a}\\sqrt{x^{2}+y^{2}}$. Asi se tiene que\n",
    "\n",
    "$$ A = 4\\sqrt{\\left(\\frac{h}{a}\\right)^{2}+1} \\int_{0}^{a} \\int_{0}^{\\sqrt{a^{2}-x^{2}}}dxdy = \n",
    "4\\sqrt{\\left(\\frac{h}{a}\\right)^{2}+1} \\int_{0}^{a} \\sqrt{a^{2}-x^{2}}dx =a\\pi\\sqrt{h^{2}+a^{2}} \\quad .$$\n",
    "\n",
    "Para calcular el centro de masa basta dividir el cono en triángulos rectángulos y recordar que el centroide de cada uno está a un tercio de la base, por tanto\n",
    "\n",
    "$$z_{cm} = \\frac{1}{3}h \\quad .$$\n",
    "\n",
    "Por el teorema de Pappus, el centroide de la figura completa es\n",
    "\n",
    "$$\\bar R_{CM}=\\frac{2 \\pi a^{2}\\left(-\\frac{a}{2}\\hat j\\right)+a\\pi\\sqrt{h^{2}+a^{2}}\\left(\\frac{1}{3}h \\hat j\\right)}{A_{1}+A_{2}}=0\\nonumber\\\\\n",
    "\\iff (h^{2})^{2} + a^{2}h^{2}-9a^{4} = 0 \\quad .$$"
   ]
  },
  {
   "cell_type": "code",
   "execution_count": 9,
   "metadata": {},
   "outputs": [
    {
     "data": {
      "text/plain": [
       "1.4287691434059981"
      ]
     },
     "execution_count": 9,
     "metadata": {},
     "output_type": "execute_result"
    }
   ],
   "source": [
    "import numpy as np\n",
    "\n",
    "np.sqrt(-1+(np.sqrt(37)/2))"
   ]
  },
  {
   "cell_type": "markdown",
   "metadata": {},
   "source": [
    "La relación entre 'a' y 'h' es $h \\approx 1.43 a$ ."
   ]
  },
  {
   "cell_type": "markdown",
   "metadata": {},
   "source": [
    "6. Al diseñar un aparato, una de las preocupaciones es la dificultad de voltear dicho\n",
    "aparato. Al empujar el aparato, éste volverá a su lugar mientras su centro de masa\n",
    "esté del lado correcto del fulcro, que es el punto donde se apoya el aparato al ladearse.\n",
    "Suponga que el perfil de un aparato con densidad constante es parabólico, como un\n",
    "radio antiguo. Éste ocupa la región $0 \\leq y \\leq a(1-x^{2})$, $-1 \\leq x \\leq 1$, en el plano xy.\n",
    "¿Cuáles valores de a garantizarán que el aparato deberá inclinarse más de $45^{\\circ}$ para\n",
    "caer?\n",
    "\n",
    "SOLUCIÓN:\n",
    "\n",
    "Por simetría, el centro de masa del cuerpo en reposo, sólo tiene coordenada 'y' distinta de cero. Ésta está dada por \n",
    "$$ y_{cm} = \\frac{\\rho \\int_{-1}^{1}\\int_{0}^{a(1-x^{2})}y dy dx}{\\frac{4\\rho a}{3}}=\\frac{2}{5}a \\quad.$$\n",
    "\n",
    "Ahora es necesario considerar el triángulo rectángulo que se forma por el centro de masa, el origen y el fulcro. De tal forma que\n",
    "\n",
    "$$ tan \\theta = \\frac{\\frac{2}{5}a}{1} = \\frac{2}{5}a \\quad .$$\n",
    "\n",
    "Por otra parte, la condición nos dice que el centro de masa no tiene que pasar la recta $x=1$, esto se traduce en\n",
    "\n",
    "$$\\theta + \\frac{\\pi}{4} \\leq \\frac{\\pi}{2} \\iff \\theta \\leq \\frac{\\pi}{4} \\quad ; \\\\\n",
    "\\therefore 0 < a \\leq \\frac{5}{2}$$\n"
   ]
  }
 ],
 "metadata": {
  "kernelspec": {
   "display_name": "Python 3",
   "language": "python",
   "name": "python3"
  },
  "language_info": {
   "codemirror_mode": {
    "name": "ipython",
    "version": 3
   },
   "file_extension": ".py",
   "mimetype": "text/x-python",
   "name": "python",
   "nbconvert_exporter": "python",
   "pygments_lexer": "ipython3",
   "version": "3.6.5"
  }
 },
 "nbformat": 4,
 "nbformat_minor": 2
}
